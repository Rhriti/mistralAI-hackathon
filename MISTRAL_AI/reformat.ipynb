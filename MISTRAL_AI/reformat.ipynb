{
 "cells": [
  {
   "cell_type": "code",
   "execution_count": 8,
   "metadata": {},
   "outputs": [
    {
     "data": {
      "text/plain": [
       "{'messages': [{'role': 'system',\n",
       "   'content': \"Your task is to analyze the subtitles of a YouTube video and determine when the user starts and stops using a software mentioned in the video. The subtitles will be provided as input, with each sentence marked by a '' tag followed by its start time and end time. For example: ' 0.0 - 5.4: Go to Google Fonts if you want to '.\\n\\nTo complete this task, follow these steps:\\n\\nIdentify the sentences that mention the software being used.\\nUse the start time and end time of these sentences to determine when the user starts and stops using the software.\\nIf the user starts using the software in one sentence and continues using it in the next sentence, use the start time of the first sentence and the end time of the last sentence as the overall start and end times.\\nIf the user stops using the software and then starts using it again later, treat these as separate instances of software usage.\\nIf the video does not provide clear start and end times for software usage, make an educated guess based on the context of the sentences.\\nProvide the start and end times in a clear and concise format, such as 'Software usage starts at 0:15 and ends at 2:45'.\"}]}"
      ]
     },
     "execution_count": 8,
     "metadata": {},
     "output_type": "execute_result"
    }
   ],
   "source": [
    "import json\n",
    "\n",
    "with open('template.json', 'r') as f:data = json.load(f)\n",
    "instruction=data['messages'][0]\n"
   ]
  },
  {
   "cell_type": "code",
   "execution_count": 11,
   "metadata": {},
   "outputs": [],
   "source": [
    "for i in range(1,len(data['messages'])-1,2):\n",
    "    user=data['messages'][i]\n",
    "    ass=data['messages'][i+1]\n",
    "    with open('data.jsonl','a') as f:\n",
    "        template={\"messages\":[instruction,user,ass]}\n",
    "        temp_json=json.dumps(template)\n",
    "        f.write(temp_json+'\\n')"
   ]
  }
 ],
 "metadata": {
  "kernelspec": {
   "display_name": "Python 3",
   "language": "python",
   "name": "python3"
  },
  "language_info": {
   "codemirror_mode": {
    "name": "ipython",
    "version": 3
   },
   "file_extension": ".py",
   "mimetype": "text/x-python",
   "name": "python",
   "nbconvert_exporter": "python",
   "pygments_lexer": "ipython3",
   "version": "3.11.3"
  }
 },
 "nbformat": 4,
 "nbformat_minor": 2
}
